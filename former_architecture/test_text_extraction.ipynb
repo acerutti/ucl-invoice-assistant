{
 "cells": [
  {
   "cell_type": "markdown",
   "metadata": {},
   "source": [
    "# Customised Text Extractions from Pictures"
   ]
  },
  {
   "cell_type": "code",
   "execution_count": 2,
   "metadata": {},
   "outputs": [
    {
     "name": "stdout",
     "output_type": "stream",
     "text": [
      "\u001b[33mWARNING: Ignoring invalid distribution ~orch (/opt/anaconda3/lib/python3.11/site-packages)\u001b[0m\u001b[33m\n",
      "\u001b[0m\u001b[33mWARNING: Ignoring invalid distribution ~orch (/opt/anaconda3/lib/python3.11/site-packages)\u001b[0m\u001b[33m\n",
      "\u001b[0mRequirement already satisfied: pdf2image in /opt/anaconda3/lib/python3.11/site-packages (1.17.0)\n",
      "Requirement already satisfied: pillow in /opt/anaconda3/lib/python3.11/site-packages (from pdf2image) (10.2.0)\n",
      "\u001b[33mWARNING: Ignoring invalid distribution ~orch (/opt/anaconda3/lib/python3.11/site-packages)\u001b[0m\u001b[33m\n",
      "\u001b[0m\u001b[33mWARNING: Ignoring invalid distribution ~orch (/opt/anaconda3/lib/python3.11/site-packages)\u001b[0m\u001b[33m\n",
      "\u001b[0m\u001b[33mWARNING: Ignoring invalid distribution ~orch (/opt/anaconda3/lib/python3.11/site-packages)\u001b[0m\u001b[33m\n",
      "\u001b[0m\u001b[33mWARNING: Ignoring invalid distribution ~orch (/opt/anaconda3/lib/python3.11/site-packages)\u001b[0m\u001b[33m\n",
      "\u001b[0m\u001b[33mWARNING: Ignoring invalid distribution ~orch (/opt/anaconda3/lib/python3.11/site-packages)\u001b[0m\u001b[33m\n",
      "\u001b[0m\u001b[33mWARNING: Ignoring invalid distribution ~orch (/opt/anaconda3/lib/python3.11/site-packages)\u001b[0m\u001b[33m\n",
      "\u001b[0mRequirement already satisfied: pytesseract in /opt/anaconda3/lib/python3.11/site-packages (0.3.10)\n",
      "Requirement already satisfied: packaging>=21.3 in /opt/anaconda3/lib/python3.11/site-packages (from pytesseract) (23.2)\n",
      "Requirement already satisfied: Pillow>=8.0.0 in /opt/anaconda3/lib/python3.11/site-packages (from pytesseract) (10.2.0)\n",
      "\u001b[33mWARNING: Ignoring invalid distribution ~orch (/opt/anaconda3/lib/python3.11/site-packages)\u001b[0m\u001b[33m\n",
      "\u001b[0m\u001b[33mWARNING: Ignoring invalid distribution ~orch (/opt/anaconda3/lib/python3.11/site-packages)\u001b[0m\u001b[33m\n",
      "\u001b[0m\u001b[33mWARNING: Ignoring invalid distribution ~orch (/opt/anaconda3/lib/python3.11/site-packages)\u001b[0m\u001b[33m\n",
      "\u001b[0m\u001b[33mWARNING: Ignoring invalid distribution ~orch (/opt/anaconda3/lib/python3.11/site-packages)\u001b[0m\u001b[33m\n",
      "\u001b[0m"
     ]
    }
   ],
   "source": [
    "###############################################################################\n",
    "#### EXTRACT DATA FROM THE PDF FILES ####\n",
    "###############################################################################\n",
    "# code is from: https://github.com/zoumdatascience/OCR/blob/main/TextFromAnyPDF.ipynb\n",
    "!pip install pdf2image\n",
    "!pip install pytesseract\n",
    "\n",
    "\n",
    "from pdf2image import convert_from_path\n",
    "from pytesseract import image_to_string\n",
    "from PIL import Image"
   ]
  },
  {
   "cell_type": "code",
   "execution_count": 3,
   "metadata": {},
   "outputs": [
    {
     "name": "stdout",
     "output_type": "stream",
     "text": [
      "Snack Bar\n",
      "IL RIFUGIO Sagl\n",
      "Riva Caccia 1D\n",
      "6900 Lugano\n",
      "Fattura 983 360\n",
      "Numero cliente 7726 T2A\n",
      "Collaboratore Isabella\n",
      "Novazzano 26.02.2024 Pagina 1/2\n",
      "Indirizzo di fornitura: Snack Bar, IL RIFUGIO Sagl, Riva Caccia 1D, 6900 Lugano\n",
      "FD - Pagamento E-Banking\n",
      "Numero articolo / Descrizione Quantita Prezzo unit. Ribasso % Totale\n",
      "E201G Caffé Extra-Milano in grani 4.00 pz 23.00 92.00 23\n",
      "10009\n",
      "Lotto diproduzione 241 T29GE, 4.00 pz\n",
      "29.07.2025\n",
      "D304 Decaffeinato in grani 1.00 pz 11.50 11.50 23\n",
      "500g\n",
      "Lotto di produzione L11N, 31.12.2025 1.00 pz\n",
      "1778 Teé menta 1.00 box 2.40 2.40 23\n",
      "box 15 bustine\n",
      "Gardenhouse\n",
      "Lotto diproduzione £202G, 21.07.2026 1.00 box\n",
      "01080 Choco & Cereals 1.00 pz 21.00 21.00 23\n",
      "1000g\n",
      "Mangini\n",
      "Lotto diproduzione 1223, 22.01.2026 1.00 pz\n",
      "Totale intermedio 126.90\n",
      "IVA 2.6% netta (Codice 23) di 126.90 3.30\n",
      "\n",
      "Totale CHF\n",
      "Condizioni di pagamento: 10 giorni netto.\n",
      "\n",
      "\n"
     ]
    }
   ],
   "source": [
    "# since the invoices and the bank statements are scanned PDF \n",
    "# we need to prepare the data so that we can extract the data\n",
    "\n",
    "#convert pdf to image, returns an iterable containing image format of all the pages of the pdf\n",
    "def convert_pdf_to_img(pdf_file):\n",
    "    return convert_from_path(pdf_file)\n",
    "\n",
    "# convert image to text, returns the textual content of a single image\n",
    "def convert_image_to_text(file):    \n",
    "    text = image_to_string(file)\n",
    "    return text\n",
    "\n",
    "# combining the two previous functions, returns the textual content of all pages\n",
    "def get_text_from_any_pdf(pdf_file):\n",
    "    images = convert_pdf_to_img(pdf_file)\n",
    "    final_text = \"\"\n",
    "    for pg, img in enumerate(images):\n",
    "        \n",
    "        final_text += convert_image_to_text(img)\n",
    "        #print(\"Page n°{}\".format(pg))\n",
    "        #print(convert_image_to_text(img))\n",
    "    \n",
    "    return final_text\n",
    "\n",
    "# Testing with one document\n",
    "pdf_file = 'data/invoice_scan/invoice_3_only_first_page.pdf'\n",
    "\n",
    "text = get_text_from_any_pdf(pdf_file)\n",
    "\n",
    "# Printing result in terminal to see if it is correct\n",
    "print(text)"
   ]
  },
  {
   "cell_type": "code",
   "execution_count": 5,
   "metadata": {},
   "outputs": [
    {
     "data": {
      "text/plain": [
       "{'Invoice Number': '983 360',\n",
       " 'Customer Number': '7726',\n",
       " 'Employee Name': 'Isabella',\n",
       " 'Delivery Note': 'N/A',\n",
       " 'Delivery Address': 'Snack Bar, IL RIFUGIO Sagl, Riva Caccia 1D, 6900 Lugano',\n",
       " 'Date': '26.02.2024',\n",
       " 'Subtotal': '126.90',\n",
       " 'Total': 'N/A'}"
      ]
     },
     "execution_count": 5,
     "metadata": {},
     "output_type": "execute_result"
    }
   ],
   "source": [
    "#############################################\n",
    "# Different Language Text Extraction\n",
    "#############################################\n",
    "\n",
    "import re\n",
    "import pandas as pd\n",
    "\n",
    "#  'input_string' contains the invoice text\n",
    "def extract_invoice_data(input_string):\n",
    "    # Define patterns\n",
    "    patterns = {\n",
    "        'Invoice Number': r'Rechnung\\s+([\\d ]+)\\n|Fattura\\s+([\\d ]+)\\n|Facture\\s+([\\d ]+)\\n',\n",
    "        'Customer Number': r\"Kundennummer\\s+(\\d{1,3}(?:'\\d{3})*)|Numéro de client\\s+(\\d{1,3}(?:'\\d{3})*)|Numero cliente\\s+(\\d{1,3}'?\\d{3}|\\d{5})\",\n",
    "        'Employee Name': r\"Sachebearbeiter\\s+(\\w+)\\n|Collaboratore\\s+(\\w+)\\n|Collaborateur\\s+(\\w+)\\n\",\n",
    "        'Delivery Note': r\"Lieferschein\\s*-\\s*(\\d{3}\\s{1}\\d{3})|Bollettino di consegna\\s*-\\s*(\\d{3}\\s{1}\\d{3})\\n|Bulletin de Livraison\\s*-\\s*(\\d{3}\\s{1}\\d{3})\",\n",
    "        'Delivery Address': r'Lieferadresse \\s*(.*?)\\n|Adresse de fourniture \\s*(.*?)\\n|Indirizzo di fornitura:\\s*(.*?)\\n|\\d+\\s+-\\s+(.*?,\\s+\\d{4}.*?)(?=\\n)',\n",
    "        'Date': r'(\\d{2}\\.\\d{2}\\.\\d{4})|(\\d{2}/\\d{2}/\\d{4})',\n",
    "        'Subtotal': r'Total intermédiaire\\s+([\\d\\s]+\\.\\d{2})|Totale intermedio\\s+([\\d\\s]+\\.\\d{2})|Zwischentotal\\s+([\\d\\s]+\\.\\d{2})',\n",
    "        'Total': r\"Total CHF\\s+(\\d+\\.\\d{2})|Totale CHF\\s+(\\d+\\.\\d{2})\"\n",
    "    }\n",
    "    \n",
    "    # Extract information\n",
    "    extracted_data = {}\n",
    "    for key, pattern in patterns.items():\n",
    "        match = re.search(pattern, input_string, re.IGNORECASE)\n",
    "        if match:\n",
    "            # Extract the first non-None group\n",
    "            extracted_data[key] = next((m for m in match.groups() if m is not None), 'N/A')\n",
    "        else:\n",
    "            extracted_data[key] = 'N/A'\n",
    "    \n",
    "    return extracted_data\n",
    "\n",
    "# Test function\n",
    "extract_invoice_data(text)"
   ]
  },
  {
   "cell_type": "code",
   "execution_count": 8,
   "metadata": {},
   "outputs": [
    {
     "data": {
      "text/html": [
       "<div>\n",
       "<style scoped>\n",
       "    .dataframe tbody tr th:only-of-type {\n",
       "        vertical-align: middle;\n",
       "    }\n",
       "\n",
       "    .dataframe tbody tr th {\n",
       "        vertical-align: top;\n",
       "    }\n",
       "\n",
       "    .dataframe thead th {\n",
       "        text-align: right;\n",
       "    }\n",
       "</style>\n",
       "<table border=\"1\" class=\"dataframe\">\n",
       "  <thead>\n",
       "    <tr style=\"text-align: right;\">\n",
       "      <th></th>\n",
       "      <th>Invoice Number</th>\n",
       "      <th>Customer Number</th>\n",
       "      <th>Employee Name</th>\n",
       "      <th>Delivery Note</th>\n",
       "      <th>Delivery Address</th>\n",
       "      <th>Subtotal</th>\n",
       "      <th>Total</th>\n",
       "      <th>Date</th>\n",
       "    </tr>\n",
       "  </thead>\n",
       "  <tbody>\n",
       "    <tr>\n",
       "      <th>0</th>\n",
       "      <td>983 360</td>\n",
       "      <td>7726</td>\n",
       "      <td>Isabella</td>\n",
       "      <td>N/A</td>\n",
       "      <td>Snack Bar, IL RIFUGIO Sagl, Riva Caccia 1D, 69...</td>\n",
       "      <td>126.90</td>\n",
       "      <td>N/A</td>\n",
       "      <td>26.02.2024</td>\n",
       "    </tr>\n",
       "  </tbody>\n",
       "</table>\n",
       "</div>"
      ],
      "text/plain": [
       "  Invoice Number Customer Number Employee Name Delivery Note  \\\n",
       "0        983 360            7726      Isabella           N/A   \n",
       "\n",
       "                                    Delivery Address Subtotal Total  \\\n",
       "0  Snack Bar, IL RIFUGIO Sagl, Riva Caccia 1D, 69...   126.90   N/A   \n",
       "\n",
       "         Date  \n",
       "0  26.02.2024  "
      ]
     },
     "execution_count": 8,
     "metadata": {},
     "output_type": "execute_result"
    }
   ],
   "source": [
    "#############################################\n",
    "# Different Language Text Extraction\n",
    "#############################################\n",
    "\n",
    "# Prepare the DataFrame outside the function as a global variable\n",
    "df_orders = pd.DataFrame({\n",
    "    'Invoice Number':  [],\n",
    "    'Customer Number': [],\n",
    "    'Employee Name': [],\n",
    "    'Delivery Note': [],\n",
    "    'Delivery Address': [],\n",
    "    'Subtotal': [],\n",
    "    'Total': []\n",
    "})\n",
    "\n",
    "# Function to add data to the DF\n",
    "def add_data_to_df(orders_data):\n",
    "    global df_orders  # Declare df_orders as global so that you can modify it\n",
    "    # Add a new row to the DataFrame with the values from the data dictionary\n",
    "    new_row = pd.DataFrame(orders_data, index=[0])\n",
    "    df_orders = pd.concat([df_orders, new_row], ignore_index=True)\n",
    "\n",
    "# Testing function for extraction\n",
    "# This would be done for each document's extracted data\n",
    "extracted_data = extract_invoice_data(text)  # Replace 'text' with your actual document text\n",
    "add_data_to_df(extracted_data)\n",
    "\n",
    "df_orders"
   ]
  }
 ],
 "metadata": {
  "kernelspec": {
   "display_name": "base",
   "language": "python",
   "name": "python3"
  },
  "language_info": {
   "codemirror_mode": {
    "name": "ipython",
    "version": 3
   },
   "file_extension": ".py",
   "mimetype": "text/x-python",
   "name": "python",
   "nbconvert_exporter": "python",
   "pygments_lexer": "ipython3",
   "version": "3.11.7"
  }
 },
 "nbformat": 4,
 "nbformat_minor": 2
}
